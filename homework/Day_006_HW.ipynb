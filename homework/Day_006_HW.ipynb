{
 "cells": [
  {
   "cell_type": "code",
   "execution_count": 1,
   "metadata": {
    "scrolled": true
   },
   "outputs": [
    {
     "name": "stdout",
     "output_type": "stream",
     "text": [
      "Path of read in data: ./data/samples/Part01/application_train.csv\n"
     ]
    },
    {
     "data": {
      "text/html": [
       "<div>\n",
       "<style scoped>\n",
       "    .dataframe tbody tr th:only-of-type {\n",
       "        vertical-align: middle;\n",
       "    }\n",
       "\n",
       "    .dataframe tbody tr th {\n",
       "        vertical-align: top;\n",
       "    }\n",
       "\n",
       "    .dataframe thead th {\n",
       "        text-align: right;\n",
       "    }\n",
       "</style>\n",
       "<table border=\"1\" class=\"dataframe\">\n",
       "  <thead>\n",
       "    <tr style=\"text-align: right;\">\n",
       "      <th></th>\n",
       "      <th>SK_ID_CURR</th>\n",
       "      <th>TARGET</th>\n",
       "      <th>NAME_CONTRACT_TYPE</th>\n",
       "      <th>CODE_GENDER</th>\n",
       "      <th>FLAG_OWN_CAR</th>\n",
       "      <th>FLAG_OWN_REALTY</th>\n",
       "      <th>CNT_CHILDREN</th>\n",
       "      <th>AMT_INCOME_TOTAL</th>\n",
       "      <th>AMT_CREDIT</th>\n",
       "      <th>AMT_ANNUITY</th>\n",
       "      <th>...</th>\n",
       "      <th>FLAG_DOCUMENT_18</th>\n",
       "      <th>FLAG_DOCUMENT_19</th>\n",
       "      <th>FLAG_DOCUMENT_20</th>\n",
       "      <th>FLAG_DOCUMENT_21</th>\n",
       "      <th>AMT_REQ_CREDIT_BUREAU_HOUR</th>\n",
       "      <th>AMT_REQ_CREDIT_BUREAU_DAY</th>\n",
       "      <th>AMT_REQ_CREDIT_BUREAU_WEEK</th>\n",
       "      <th>AMT_REQ_CREDIT_BUREAU_MON</th>\n",
       "      <th>AMT_REQ_CREDIT_BUREAU_QRT</th>\n",
       "      <th>AMT_REQ_CREDIT_BUREAU_YEAR</th>\n",
       "    </tr>\n",
       "  </thead>\n",
       "  <tbody>\n",
       "    <tr>\n",
       "      <th>0</th>\n",
       "      <td>100002</td>\n",
       "      <td>1</td>\n",
       "      <td>Cash loans</td>\n",
       "      <td>M</td>\n",
       "      <td>N</td>\n",
       "      <td>Y</td>\n",
       "      <td>0</td>\n",
       "      <td>202500.0</td>\n",
       "      <td>406597.5</td>\n",
       "      <td>24700.5</td>\n",
       "      <td>...</td>\n",
       "      <td>0</td>\n",
       "      <td>0</td>\n",
       "      <td>0</td>\n",
       "      <td>0</td>\n",
       "      <td>0.0</td>\n",
       "      <td>0.0</td>\n",
       "      <td>0.0</td>\n",
       "      <td>0.0</td>\n",
       "      <td>0.0</td>\n",
       "      <td>1.0</td>\n",
       "    </tr>\n",
       "    <tr>\n",
       "      <th>1</th>\n",
       "      <td>100003</td>\n",
       "      <td>0</td>\n",
       "      <td>Cash loans</td>\n",
       "      <td>F</td>\n",
       "      <td>N</td>\n",
       "      <td>N</td>\n",
       "      <td>0</td>\n",
       "      <td>270000.0</td>\n",
       "      <td>1293502.5</td>\n",
       "      <td>35698.5</td>\n",
       "      <td>...</td>\n",
       "      <td>0</td>\n",
       "      <td>0</td>\n",
       "      <td>0</td>\n",
       "      <td>0</td>\n",
       "      <td>0.0</td>\n",
       "      <td>0.0</td>\n",
       "      <td>0.0</td>\n",
       "      <td>0.0</td>\n",
       "      <td>0.0</td>\n",
       "      <td>0.0</td>\n",
       "    </tr>\n",
       "    <tr>\n",
       "      <th>2</th>\n",
       "      <td>100004</td>\n",
       "      <td>0</td>\n",
       "      <td>Revolving loans</td>\n",
       "      <td>M</td>\n",
       "      <td>Y</td>\n",
       "      <td>Y</td>\n",
       "      <td>0</td>\n",
       "      <td>67500.0</td>\n",
       "      <td>135000.0</td>\n",
       "      <td>6750.0</td>\n",
       "      <td>...</td>\n",
       "      <td>0</td>\n",
       "      <td>0</td>\n",
       "      <td>0</td>\n",
       "      <td>0</td>\n",
       "      <td>0.0</td>\n",
       "      <td>0.0</td>\n",
       "      <td>0.0</td>\n",
       "      <td>0.0</td>\n",
       "      <td>0.0</td>\n",
       "      <td>0.0</td>\n",
       "    </tr>\n",
       "    <tr>\n",
       "      <th>3</th>\n",
       "      <td>100006</td>\n",
       "      <td>0</td>\n",
       "      <td>Cash loans</td>\n",
       "      <td>F</td>\n",
       "      <td>N</td>\n",
       "      <td>Y</td>\n",
       "      <td>0</td>\n",
       "      <td>135000.0</td>\n",
       "      <td>312682.5</td>\n",
       "      <td>29686.5</td>\n",
       "      <td>...</td>\n",
       "      <td>0</td>\n",
       "      <td>0</td>\n",
       "      <td>0</td>\n",
       "      <td>0</td>\n",
       "      <td>NaN</td>\n",
       "      <td>NaN</td>\n",
       "      <td>NaN</td>\n",
       "      <td>NaN</td>\n",
       "      <td>NaN</td>\n",
       "      <td>NaN</td>\n",
       "    </tr>\n",
       "    <tr>\n",
       "      <th>4</th>\n",
       "      <td>100007</td>\n",
       "      <td>0</td>\n",
       "      <td>Cash loans</td>\n",
       "      <td>M</td>\n",
       "      <td>N</td>\n",
       "      <td>Y</td>\n",
       "      <td>0</td>\n",
       "      <td>121500.0</td>\n",
       "      <td>513000.0</td>\n",
       "      <td>21865.5</td>\n",
       "      <td>...</td>\n",
       "      <td>0</td>\n",
       "      <td>0</td>\n",
       "      <td>0</td>\n",
       "      <td>0</td>\n",
       "      <td>0.0</td>\n",
       "      <td>0.0</td>\n",
       "      <td>0.0</td>\n",
       "      <td>0.0</td>\n",
       "      <td>0.0</td>\n",
       "      <td>0.0</td>\n",
       "    </tr>\n",
       "  </tbody>\n",
       "</table>\n",
       "<p>5 rows × 122 columns</p>\n",
       "</div>"
      ],
      "text/plain": [
       "   SK_ID_CURR  TARGET NAME_CONTRACT_TYPE CODE_GENDER FLAG_OWN_CAR  \\\n",
       "0      100002       1         Cash loans           M            N   \n",
       "1      100003       0         Cash loans           F            N   \n",
       "2      100004       0    Revolving loans           M            Y   \n",
       "3      100006       0         Cash loans           F            N   \n",
       "4      100007       0         Cash loans           M            N   \n",
       "\n",
       "  FLAG_OWN_REALTY  CNT_CHILDREN  AMT_INCOME_TOTAL  AMT_CREDIT  AMT_ANNUITY  \\\n",
       "0               Y             0          202500.0    406597.5      24700.5   \n",
       "1               N             0          270000.0   1293502.5      35698.5   \n",
       "2               Y             0           67500.0    135000.0       6750.0   \n",
       "3               Y             0          135000.0    312682.5      29686.5   \n",
       "4               Y             0          121500.0    513000.0      21865.5   \n",
       "\n",
       "   ...  FLAG_DOCUMENT_18 FLAG_DOCUMENT_19 FLAG_DOCUMENT_20 FLAG_DOCUMENT_21  \\\n",
       "0  ...                 0                0                0                0   \n",
       "1  ...                 0                0                0                0   \n",
       "2  ...                 0                0                0                0   \n",
       "3  ...                 0                0                0                0   \n",
       "4  ...                 0                0                0                0   \n",
       "\n",
       "  AMT_REQ_CREDIT_BUREAU_HOUR AMT_REQ_CREDIT_BUREAU_DAY  \\\n",
       "0                        0.0                       0.0   \n",
       "1                        0.0                       0.0   \n",
       "2                        0.0                       0.0   \n",
       "3                        NaN                       NaN   \n",
       "4                        0.0                       0.0   \n",
       "\n",
       "   AMT_REQ_CREDIT_BUREAU_WEEK  AMT_REQ_CREDIT_BUREAU_MON  \\\n",
       "0                         0.0                        0.0   \n",
       "1                         0.0                        0.0   \n",
       "2                         0.0                        0.0   \n",
       "3                         NaN                        NaN   \n",
       "4                         0.0                        0.0   \n",
       "\n",
       "   AMT_REQ_CREDIT_BUREAU_QRT  AMT_REQ_CREDIT_BUREAU_YEAR  \n",
       "0                        0.0                         1.0  \n",
       "1                        0.0                         0.0  \n",
       "2                        0.0                         0.0  \n",
       "3                        NaN                         NaN  \n",
       "4                        0.0                         0.0  \n",
       "\n",
       "[5 rows x 122 columns]"
      ]
     },
     "execution_count": 1,
     "metadata": {},
     "output_type": "execute_result"
    }
   ],
   "source": [
    "import os\n",
    "import numpy as np\n",
    "import pandas as pd\n",
    "import matplotlib.pyplot as plt\n",
    "%matplotlib inline\n",
    "dir_data = './data/samples/Part01/'\n",
    "f_app = os.path.join(dir_data, 'application_train.csv')\n",
    "print('Path of read in data: %s' % (f_app))\n",
    "app_train = pd.read_csv(f_app)\n",
    "app_train.head()"
   ]
  },
  {
   "cell_type": "code",
   "execution_count": 2,
   "metadata": {},
   "outputs": [
    {
     "name": "stdout",
     "output_type": "stream",
     "text": [
      "Numbers of remain columns 73\n"
     ]
    },
    {
     "data": {
      "image/png": "[encoded data removed]",
      "text/plain": [
       "<Figure size 432x288 with 1 Axes>"
      ]
     },
     "metadata": {
      "needs_background": "light"
     },
     "output_type": "display_data"
    }
   ],
   "source": [
    "# 先篩選數值型的欄位\n",
    "\"\"\"\n",
    "YOUR CODE HERE, fill correct data types (for example str, float, int, ...)\n",
    "\"\"\"\n",
    "dtype_select = ['float64','int64']\n",
    "numeric_columns = list(app_train.columns[list(app_train.dtypes.isin(dtype_select))])\n",
    "# 再把只有 2 值 (通常是 0,1) 的欄位去掉\n",
    "numeric_columns = list(app_train[numeric_columns].columns[list(app_train[numeric_columns].apply(lambda x:len(x.unique())!=2 ))])\n",
    "print(\"Numbers of remain columns %d\" % len(numeric_columns))\n",
    "for col in numeric_columns:\n",
    "    app_train[col].value_counts()\n",
    "    app_train[col].plot(kind='box')\n"
   ]
  },
  {
   "cell_type": "code",
   "execution_count": 96,
   "metadata": {},
   "outputs": [
    {
     "name": "stdout",
     "output_type": "stream",
     "text": [
      "count    3.075090e+05\n",
      "mean     1.683600e+05\n",
      "std      1.039520e+05\n",
      "min      2.565000e+04\n",
      "25%      1.125000e+05\n",
      "50%      1.471500e+05\n",
      "75%      2.025000e+05\n",
      "max      1.350000e+07\n",
      "Name: AMT_INCOME_TOTAL, dtype: float64\n"
     ]
    },
    {
     "data": {
      "image/png": "[encoded data removed]",
      "text/plain": [
       "<Figure size 432x288 with 1 Axes>"
      ]
     },
     "metadata": {
      "needs_background": "light"
     },
     "output_type": "display_data"
    },
    {
     "data": {
      "image/png": "[encoded data removed]",
      "text/plain": [
       "<Figure size 432x288 with 1 Axes>"
      ]
     },
     "metadata": {
      "needs_background": "light"
     },
     "output_type": "display_data"
    }
   ],
   "source": [
    "print(app_train['AMT_INCOME_TOTAL'].describe())\n",
    "non_anom = app_train[app_train['AMT_INCOME_TOTAL'] < 800000]\n",
    "sort = np.sort(non_anom['AMT_INCOME_TOTAL'].tolist())\n",
    "cdf = pd.DataFrame(sort)\n",
    "#plt.plot(list(cdf.index), cdf/cdf.max())\n",
    "plt.plot(sort, np.arange(1,len(sort)+1)/len(sort))\n",
    "\n",
    "plt.xlabel('AMT_INCOME_TOTAL')\n",
    "plt.ylabel('ECDF')\n",
    "#plt.ylim([-0.05,1.05]) # 限制顯示圖片的範圍\n",
    "plt.show()\n",
    "\n",
    "app_train['AMT_INCOME_TOTAL'].hist(bins = 100)\n",
    "plt.show()"
   ]
  },
  {
   "cell_type": "code",
   "execution_count": 97,
   "metadata": {},
   "outputs": [
    {
     "name": "stdout",
     "output_type": "stream",
     "text": [
      "count    307511.000000\n",
      "mean          0.020868\n",
      "std           0.013831\n",
      "min           0.000290\n",
      "25%           0.010006\n",
      "50%           0.018850\n",
      "75%           0.028663\n",
      "max           0.072508\n",
      "Name: REGION_POPULATION_RELATIVE, dtype: float64\n"
     ]
    },
    {
     "data": {
      "image/png": "[encoded data removed]",
      "text/plain": [
       "<Figure size 432x288 with 1 Axes>"
      ]
     },
     "metadata": {
      "needs_background": "light"
     },
     "output_type": "display_data"
    },
    {
     "data": {
      "image/png": "[encoded data removed]",
      "text/plain": [
       "<Figure size 432x288 with 1 Axes>"
      ]
     },
     "metadata": {
      "needs_background": "light"
     },
     "output_type": "display_data"
    },
    {
     "data": {
      "text/plain": [
       "0.035792    16408\n",
       "0.046220    13442\n",
       "0.030755    12163\n",
       "0.025164    11950\n",
       "0.026392    11601\n",
       "0.031329    11321\n",
       "0.028663    11157\n",
       "0.019101     8694\n",
       "0.072508     8412\n",
       "0.020713     8066\n",
       "0.018850     7668\n",
       "0.020246     7178\n",
       "0.018634     7038\n",
       "0.022625     6943\n",
       "0.015221     6824\n",
       "0.032561     6636\n",
       "0.024610     6404\n",
       "0.019689     6172\n",
       "0.018029     6167\n",
       "0.018801     6108\n",
       "0.018209     6052\n",
       "0.014520     4785\n",
       "0.016612     4408\n",
       "0.007020     4105\n",
       "0.022800     3807\n",
       "0.010032     3570\n",
       "0.010006     3563\n",
       "0.014464     3422\n",
       "0.004960     3300\n",
       "0.011703     3252\n",
       "            ...  \n",
       "0.006008     1796\n",
       "0.003069     1783\n",
       "0.008575     1763\n",
       "0.008474     1740\n",
       "0.007274     1724\n",
       "0.007114     1684\n",
       "0.006305     1672\n",
       "0.008068     1668\n",
       "0.008866     1654\n",
       "0.006671     1653\n",
       "0.002042     1642\n",
       "0.003813     1616\n",
       "0.005084     1482\n",
       "0.006296     1225\n",
       "0.005313     1218\n",
       "0.003818     1212\n",
       "0.003122     1147\n",
       "0.006233     1087\n",
       "0.005002     1068\n",
       "0.002134     1051\n",
       "0.004849     1038\n",
       "0.005144      967\n",
       "0.002506      944\n",
       "0.003541      627\n",
       "0.001276      558\n",
       "0.001417      467\n",
       "0.001333      235\n",
       "0.000533       39\n",
       "0.000938       28\n",
       "0.000290        2\n",
       "Name: REGION_POPULATION_RELATIVE, Length: 81, dtype: int64"
      ]
     },
     "execution_count": 97,
     "metadata": {},
     "output_type": "execute_result"
    }
   ],
   "source": [
    "# 最大值落在分布之外\n",
    "print(app_train['REGION_POPULATION_RELATIVE'].describe())\n",
    "\n",
    "# 繪製 Empirical Cumulative Density Plot (ECDF)\n",
    "\"\"\"\n",
    "Your Code Here\n",
    "\"\"\"\n",
    "sort = np.sort(app_train['REGION_POPULATION_RELATIVE'].tolist())\n",
    "cdf = pd.DataFrame(sort)\n",
    "\n",
    "\n",
    "#plt.plot(list(cdf.index), cdf/cdf.max())\n",
    "plt.plot(sort, np.arange(1,len(sort)+1)/len(sort))\n",
    "plt.xlabel('Value')\n",
    "plt.ylabel('ECDF')\n",
    "plt.ylim([-0.05,1.05]) # 限制顯示圖片的範圍\n",
    "plt.show()\n",
    "\n",
    "app_train['REGION_POPULATION_RELATIVE'].hist(bins = 100)\n",
    "plt.show()\n",
    "\n",
    "app_train['REGION_POPULATION_RELATIVE'].value_counts()\n",
    "\n",
    "# 就以這個欄位來說，雖然有資料掉在分布以外，也不算異常，僅代表這間公司在稍微熱鬧的地區有的據點較少，\n",
    "# 導致 region population relative 在少的部分較為密集，但在大的部分較為疏漏"
   ]
  },
  {
   "cell_type": "code",
   "execution_count": 101,
   "metadata": {},
   "outputs": [
    {
     "name": "stdout",
     "output_type": "stream",
     "text": [
      "count    306490.000000\n",
      "mean          1.405292\n",
      "std           2.379803\n",
      "min           0.000000\n",
      "25%           0.000000\n",
      "50%           0.000000\n",
      "75%           2.000000\n",
      "max         344.000000\n",
      "Name: OBS_60_CNT_SOCIAL_CIRCLE, dtype: float64\n"
     ]
    },
    {
     "data": {
      "image/png": "[encoded data removed]",
      "text/plain": [
       "<Figure size 432x288 with 1 Axes>"
      ]
     },
     "metadata": {
      "needs_background": "light"
     },
     "output_type": "display_data"
    },
    {
     "data": {
      "image/png": "[encoded data removed]",
      "text/plain": [
       "<Figure size 432x288 with 1 Axes>"
      ]
     },
     "metadata": {
      "needs_background": "light"
     },
     "output_type": "display_data"
    },
    {
     "name": "stdout",
     "output_type": "stream",
     "text": [
      "344.0         1\n",
      "47.0          1\n",
      "30.0          1\n",
      "29.0          2\n",
      "28.0          1\n",
      "27.0          5\n",
      "26.0          1\n",
      "25.0         11\n",
      "24.0         12\n",
      "23.0         13\n",
      "22.0         20\n",
      "21.0         28\n",
      "20.0         30\n",
      "19.0         44\n",
      "18.0         49\n",
      "17.0         73\n",
      "16.0        137\n",
      "15.0        166\n",
      "14.0        238\n",
      "13.0        401\n",
      "12.0        620\n",
      "11.0        837\n",
      "10.0       1335\n",
      "9.0        1959\n",
      "8.0        2886\n",
      "7.0        4344\n",
      "6.0        6349\n",
      "5.0        9463\n",
      "4.0       13946\n",
      "3.0       20215\n",
      "2.0       29766\n",
      "1.0       48870\n",
      "0.0      164666\n",
      "Name: OBS_60_CNT_SOCIAL_CIRCLE, dtype: int64\n"
     ]
    }
   ],
   "source": [
    "# 最大值落在分布之外\n",
    "print(app_train['OBS_60_CNT_SOCIAL_CIRCLE'].describe())\n",
    "\n",
    "# 繪製 Empirical Cumulative Density Plot (ECDF)\n",
    "non_anom = app_train[app_train['OBS_60_CNT_SOCIAL_CIRCLE'] < 20]\n",
    "sort = np.sort(non_anom['OBS_60_CNT_SOCIAL_CIRCLE'].tolist())\n",
    "cdf = pd.DataFrame(sort)\n",
    "\n",
    "plt.plot(list(cdf.index), cdf/cdf.max())\n",
    "plt.xlabel('Value')\n",
    "plt.ylabel('ECDF')\n",
    "plt.xlim([cdf.index.min() * 0.95, cdf.index.max() * 1.05])\n",
    "plt.ylim([-0.05,1.05]) # 限制顯示圖片的範圍\n",
    "plt.show()\n",
    "plt.show()\n",
    "\n",
    "#loc_a = \n",
    "#loc_b = \n",
    "#app_train.loc[loc_a, loc_b].hist()\n",
    "cdf.hist(bins = 40)\n",
    "plt.show()\n",
    "print(app_train['OBS_60_CNT_SOCIAL_CIRCLE'].value_counts().sort_index(ascending = False))"
   ]
  }
 ],
 "metadata": {
  "kernelspec": {
   "display_name": "Python 3",
   "language": "python",
   "name": "python3"
  },
  "language_info": {
   "codemirror_mode": {
    "name": "ipython",
    "version": 3
   },
   "file_extension": ".py",
   "mimetype": "text/x-python",
   "name": "python",
   "nbconvert_exporter": "python",
   "pygments_lexer": "ipython3",
   "version": "3.7.3"
  }
 },
 "nbformat": 4,
 "nbformat_minor": 2
}
